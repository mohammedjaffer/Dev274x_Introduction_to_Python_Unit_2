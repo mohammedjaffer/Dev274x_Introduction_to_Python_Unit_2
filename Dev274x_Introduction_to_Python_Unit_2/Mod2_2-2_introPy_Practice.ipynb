{
  "cells": [
    {
      "metadata": {},
      "cell_type": "markdown",
      "source": "# 2-2 Intro Python Practice\n## Lists\n<font size=\"5\" color=\"#00A0B2\"  face=\"verdana\"> <B>Student will be able to</B></font>  \n- Create Lists\n- Access items in a list\n- Add Items to the end of a list\n- Insert items into a list\n- Delete items from a list"
    },
    {
      "metadata": {},
      "cell_type": "markdown",
      "source": "## Create Lists"
    },
    {
      "metadata": {
        "trusted": true
      },
      "cell_type": "code",
      "source": "# [ ] create and populate list called days_of_week then print it\ndays_of_week = ['Sunday','Monday','Tuesday','Wednesday','Thursday','Friday','Saturday']\nprint(days_of_week)\n",
      "execution_count": 1,
      "outputs": [
        {
          "output_type": "stream",
          "text": "['Sunday', 'Monday', 'Tuesday', 'Wednesday', 'Thursday', 'Friday', 'Saturday']\n",
          "name": "stdout"
        }
      ]
    },
    {
      "metadata": {
        "trusted": true
      },
      "cell_type": "code",
      "source": "# [ ] after days_of_week is run above, print the days in the list at odd indexes 1,3,5\nprint(days_of_week[::2])\n",
      "execution_count": 2,
      "outputs": [
        {
          "output_type": "stream",
          "text": "['Sunday', 'Tuesday', 'Thursday', 'Saturday']\n",
          "name": "stdout"
        }
      ]
    },
    {
      "metadata": {},
      "cell_type": "markdown",
      "source": "## Phone letters\n![phone keys: number and letters](https://iajupyterprodblobs.blob.core.windows.net/imagecontainer/phone_letters.JPG)\nCreate a list, **`phone_letters`**, where the index 0 - 9 contains the letters for keys 0 - 9.  \n\n- 0 = ' ' (a space)\n- 1 = '' (empty)\n- 2 = 'ABC'\n- 3 = 'DEF'\n- etc...\n"
    },
    {
      "metadata": {
        "trusted": true
      },
      "cell_type": "code",
      "source": "# [ ] create and populate list called phone_letters then print it\nphone_letters = ['','\\\"','ABC','DEF','GHI','JKL','MNO','PQRS','TUV','WXYZ']\nprint(phone_letters)",
      "execution_count": 42,
      "outputs": [
        {
          "output_type": "stream",
          "text": "['', '\"', 'ABC', 'DEF', 'GHI', 'JKL', 'MNO', 'PQRS', 'TUV', 'WXYZ']\n",
          "name": "stdout"
        }
      ]
    },
    {
      "metadata": {
        "collapsed": true
      },
      "cell_type": "markdown",
      "source": "## Access Lists\n### for the 2 cells below\n- Use days_of_week list created above\n- Run the cell above to make the list available"
    },
    {
      "metadata": {
        "trusted": true
      },
      "cell_type": "code",
      "source": "# [ ] create a variable: day, assign day to \"Tuesday\" using days_of_week[]\n# [ ] print day variable\nday = days_of_week[2]\nprint(day)\n\n",
      "execution_count": 8,
      "outputs": [
        {
          "output_type": "stream",
          "text": "Tuesday\n",
          "name": "stdout"
        }
      ]
    },
    {
      "metadata": {
        "trusted": true
      },
      "cell_type": "code",
      "source": "# PART 2\n# [ ] assign day to days_of_week index = 5\n# [ ] print day\nday = days_of_week[5]\nprint(day)\n\n",
      "execution_count": 9,
      "outputs": [
        {
          "output_type": "stream",
          "text": "Friday\n",
          "name": "stdout"
        }
      ]
    },
    {
      "metadata": {},
      "cell_type": "markdown",
      "source": "## Append and Insert items into a list\n\n### Endsday, Midsday, Resterday\n#### for the exercises below\n- Use days_of_week list created above\n- Run the cell defining days_of_week above to make the list available"
    },
    {
      "metadata": {
        "trusted": true
      },
      "cell_type": "code",
      "source": "# [ ] Make up a new day! - append an 8th day of the week to days_of_week \n# [ ] print days_of_week\ndays_of_week.append('Sunday')\nprint(days_of_week)\n\n",
      "execution_count": 10,
      "outputs": [
        {
          "output_type": "stream",
          "text": "['Sunday', 'Monday', 'Tuesday', 'Wednesday', 'Thursday', 'Friday', 'Saturday', 'Sunday']\n",
          "name": "stdout"
        }
      ]
    },
    {
      "metadata": {},
      "cell_type": "markdown",
      "source": "### Question  \n- What happens if you keep running the cell above?  \n- How can you return to the initial state with the regular 7 days in days_of_week? "
    },
    {
      "metadata": {
        "trusted": true
      },
      "cell_type": "code",
      "source": "# [ ] Make up another new day - insert a new day into the middle of days_of_week between Wed - Thurs\n# [ ] print days_of_week\ndays_of_week.insert(4,'Monday')\nprint(days_of_week)\n\n",
      "execution_count": 11,
      "outputs": [
        {
          "output_type": "stream",
          "text": "['Sunday', 'Monday', 'Tuesday', 'Wednesday', 'Monday', 'Thursday', 'Friday', 'Saturday', 'Sunday']\n",
          "name": "stdout"
        }
      ]
    },
    {
      "metadata": {
        "trusted": true
      },
      "cell_type": "code",
      "source": "# [ ]  Extend the weekend - insert a day between Fri & Sat in the days_of_week list\n# [ ] print days_of_week\ndays_of_week.insert(7,'Tuesday')\nprint(days_of_week)\n\n\n",
      "execution_count": 12,
      "outputs": [
        {
          "output_type": "stream",
          "text": "['Sunday', 'Monday', 'Tuesday', 'Wednesday', 'Monday', 'Thursday', 'Friday', 'Tuesday', 'Saturday', 'Sunday']\n",
          "name": "stdout"
        }
      ]
    },
    {
      "metadata": {},
      "cell_type": "markdown",
      "source": "## Delete from a list\n### `del` & `.pop()` some bad ideas\n#### exercises below assume days_of_week appended/inserted 3 extra days in previous exercises"
    },
    {
      "metadata": {
        "trusted": true
      },
      "cell_type": "code",
      "source": "# [ ] print days_of_week \n# [ ] modified week is too long - pop() the last index of days_of_week & print .pop() value\n# [ ] print days_of_week\nprint(days_of_week)\nprint(days_of_week.pop())\nprint(days_of_week)\n\n",
      "execution_count": 13,
      "outputs": [
        {
          "output_type": "stream",
          "text": "['Sunday', 'Monday', 'Tuesday', 'Wednesday', 'Monday', 'Thursday', 'Friday', 'Tuesday', 'Saturday', 'Sunday']\nSunday\n['Sunday', 'Monday', 'Tuesday', 'Wednesday', 'Monday', 'Thursday', 'Friday', 'Tuesday', 'Saturday']\n",
          "name": "stdout"
        }
      ]
    },
    {
      "metadata": {
        "trusted": true
      },
      "cell_type": "code",
      "source": "# [ ] print days_of_week \n# [ ] delete (del) the new day added to the middle of the week \n# [ ] print days_of_week\nprint(days_of_week)\ndel days_of_week[4]\nprint(days_of_week)\n\n",
      "execution_count": 14,
      "outputs": [
        {
          "output_type": "stream",
          "text": "['Sunday', 'Monday', 'Tuesday', 'Wednesday', 'Monday', 'Thursday', 'Friday', 'Tuesday', 'Saturday']\n['Sunday', 'Monday', 'Tuesday', 'Wednesday', 'Thursday', 'Friday', 'Tuesday', 'Saturday']\n",
          "name": "stdout"
        }
      ]
    },
    {
      "metadata": {
        "trusted": true
      },
      "cell_type": "code",
      "source": "# [ ] print days_of_week \n# [ ] programmers choice - pop() any day in days_of week & print .pop() value\n# [ ] print days_of_week\nprint(days_of_week)\nprint(days_of_week.pop(6))\nprint(days_of_week)\n\n",
      "execution_count": 15,
      "outputs": [
        {
          "output_type": "stream",
          "text": "['Sunday', 'Monday', 'Tuesday', 'Wednesday', 'Thursday', 'Friday', 'Tuesday', 'Saturday']\nTuesday\n['Sunday', 'Monday', 'Tuesday', 'Wednesday', 'Thursday', 'Friday', 'Saturday']\n",
          "name": "stdout"
        }
      ]
    },
    {
      "metadata": {},
      "cell_type": "markdown",
      "source": "## Program:  Letter to Number Function\n# TODO: insert video\n### for the exercise below\n- Use phone_letters list created above\n- Run the cell above to make the list available \n\n#### recall unit 1 using **`in`** to search for a string in a string\n```python\nif \"e\" in \"open\":\n    print(\"e found\")\nelse:\n   print(\"e not found\")\n```\n\n![phone keys: number and letters](https://iajupyterprodblobs.blob.core.windows.net/imagecontainer/phone_letters.JPG)\n\n### create funtion let_to_num()\n- let_to_num() takes input of a single letter, space or empty string stored in an argument variable: letter\n  - use `while key < 10:` to try numbers 0 - 9 as index for `phone_letters` (\"key\" = phone dial pad key)\n  - check if `letter` variable is in the index of `phone_letters[key]` \n```python\nkey = 0\nwhile key < 10:\n    if # Create Code: determine if letter is **`in`** any of the phone_letters[key] where key is the index 0 -9:\n        return key\n    else:\n        key = key + 1\nreturn \"Not Found\"\n```\n- return the number or \"Not Found\"\n- **call** let_to_num() to test the function so it prints the argument and return value with:\n  - space\n  - lowercase letter\n  - different letter, uppercase\n  - a number\n  \n**Bonus**: create a special case to check if empty string (`\"\"`) was submitted   \nthe problem is that an empty string will be found in all strings as  \n```python\nif \"\" in \"ABC\": \n```  \nis True, and is true for any phone_letters, but should `return 1`"
    },
    {
      "metadata": {
        "trusted": true
      },
      "cell_type": "code",
      "source": "# [ ] create let_to_num()\n#phone_letters = [' ',\"\",'ABC','DEF','GHI','JKL','MNO','PQRS','TUV','WXYZ']\n#print(phone_letters)\ndef let_to_num(letter):\n    key = 0\n    while key < 10:\n        if letter.upper() in phone_letters[key]:\n            return key\n        elif '\\\"' in phone_letters[key]:\n            return 1\n        else:\n            key = key + 1\n    return \"Not Found\"\nprint(let_to_num('\\\"'))",
      "execution_count": 44,
      "outputs": [
        {
          "output_type": "stream",
          "text": "1\n",
          "name": "stdout"
        }
      ]
    },
    {
      "metadata": {
        "trusted": true
      },
      "cell_type": "code",
      "source": "",
      "execution_count": null,
      "outputs": []
    },
    {
      "metadata": {},
      "cell_type": "markdown",
      "source": "## Challenge: reverse a string \n### using \n- while\n- .pop()\n- insert()  \n\n**`pop()`** the **first item** in the list and "
    },
    {
      "metadata": {
        "trusted": true
      },
      "cell_type": "code",
      "source": "# [ ] Challenge: write the code for \"reverse a string\"\ndays_of_week = ['Sunday','Monday','Tuesday','Wednesday','Thursday','Friday','Saturday']\nprint(days_of_week)\nreverse = []\nwhile days_of_week:\n    day = days_of_week.pop(0)\n    print(day)\n    reverse.insert(0,day)\nprint(reverse)    \n ",
      "execution_count": 3,
      "outputs": [
        {
          "output_type": "stream",
          "text": "['Sunday', 'Monday', 'Tuesday', 'Wednesday', 'Thursday', 'Friday', 'Saturday']\nSunday\nMonday\nTuesday\nWednesday\nThursday\nFriday\nSaturday\n['Saturday', 'Friday', 'Thursday', 'Wednesday', 'Tuesday', 'Monday', 'Sunday']\n",
          "name": "stdout"
        }
      ]
    },
    {
      "metadata": {
        "trusted": true
      },
      "cell_type": "code",
      "source": "animals_list = ['cat', 'goat', 'cat']\nprint('look at all the animals',animals_list)\ndef list_o_matic(animals,animal):\n    if animal == \"\":\n        print('\\nlook at all the animals',animals)\n        print(animals.pop(),\"popped from list\")\n        \n    else:\n        if animal in animals:\n            animals.remove(animal)\n            print('\\nlook at all the animals',animals)\n            print('1 instance of',animal,'removed from list')\n            \n        else:\n            animals.append(animal)\n            print('\\nlook at all the animals',animals)\n            print('1 instance of',animal,'appended to list')\n\nwhile animals_list:\n    animal_name = input(\"enter the name of an animal: \")\n    if animal_name.capitalize() == 'Quit':\n        break\n    else:\n        list_o_matic(animals_list,animal_name)\nprint(\"\\nGoodbye!\")    ",
      "execution_count": 2,
      "outputs": [
        {
          "output_type": "stream",
          "text": "look at all the animals ['cat', 'goat', 'cat']\nenter the name of an animal: \n\nlook at all the animals ['cat', 'goat', 'cat']\ncat popped from list\nenter the name of an animal: \n\nlook at all the animals ['cat', 'goat']\ngoat popped from list\nenter the name of an animal: \n\nlook at all the animals ['cat']\ncat popped from list\n\nGoodbye!\n",
          "name": "stdout"
        }
      ]
    },
    {
      "metadata": {},
      "cell_type": "markdown",
      "source": "[Terms of use](http://go.microsoft.com/fwlink/?LinkID=206977) &nbsp; [Privacy & cookies](https://go.microsoft.com/fwlink/?LinkId=521839) &nbsp; © 2017 Microsoft"
    }
  ],
  "metadata": {
    "anaconda-cloud": {},
    "kernelspec": {
      "name": "python3",
      "display_name": "Python 3",
      "language": "python"
    },
    "language_info": {
      "mimetype": "text/x-python",
      "nbconvert_exporter": "python",
      "name": "python",
      "file_extension": ".py",
      "version": "3.5.4",
      "pygments_lexer": "ipython3",
      "codemirror_mode": {
        "version": 3,
        "name": "ipython"
      }
    }
  },
  "nbformat": 4,
  "nbformat_minor": 1
}