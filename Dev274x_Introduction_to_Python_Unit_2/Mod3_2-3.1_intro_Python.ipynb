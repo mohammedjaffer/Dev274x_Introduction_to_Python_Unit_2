{
  "cells": [
    {
      "metadata": {},
      "cell_type": "markdown",
      "source": "# 2-3.1 Intro Python\n# The Power of List Iteration\n- **for in: `for` loop using `in`**\n- for range: **`for range(start,stop,step)`** \n- more list methods: **`.extend()`, `+, .reverse(), .sort()`**   \n- strings to lists, **`.split()`**, and list to strings, **`.join()`**   \n\n\n----- \n\n><font size=\"5\" color=\"#00A0B2\"  face=\"verdana\"> <B>Student will be able to</B></font>  \n- **Iterate through Lists** using **`for`** with **`in`**\n- Use **`for range()`** in looping operations  \n- Use list methods **`.extend()`, `+, .reverse(), .sort()`**  \n- convert between lists and strings using  **`.split()`** and **`.join()`**  "
    },
    {
      "metadata": {
        "collapsed": true
      },
      "cell_type": "markdown",
      "source": "# &nbsp;\n<font size=\"6\" color=\"#00A0B2\"  face=\"verdana\"> <B>Concepts</B></font>\n## Iterate through Lists using \n# ` for in`\n[![view video](https://iajupyterprodblobs.blob.core.windows.net/imagecontainer/common/play_video.png)]( http://edxinteractivepage.blob.core.windows.net/edxpages/f7cff1a7-5601-48a1-95a6-fd1fdfabd20e.html?details=[{\"src\":\"http://jupyternootbookwams.streaming.mediaservices.windows.net/3545f443-d2b5-4d77-9a8c-cfe07976c697/Unit2_Section3.1a-Iterate_through_Lists.ism/manifest\",\"type\":\"application/vnd.ms-sstr+xml\"}],[{\"src\":\"http://jupyternootbookwams.streaming.mediaservices.windows.net/3545f443-d2b5-4d77-9a8c-cfe07976c697/Unit2_Section3.1a-Iterate_through_Lists.vtt\",\"srclang\":\"en\",\"kind\":\"subtitles\",\"label\":\"english\"}])\n```python\ncities = [\"New York\", \"Shanghai\", \"Munich\", \"Tokyo\", \"Dubai\", \"Mexico City\", \"São Paulo\", \"Hyderabad\"]\n\nfor city in cities:\n    print(city)\n```"
    },
    {
      "metadata": {},
      "cell_type": "markdown",
      "source": "# &nbsp;\n<font size=\"6\" color=\"#00A0B2\"  face=\"verdana\"> <B>Examples</B></font>"
    },
    {
      "metadata": {
        "trusted": true
      },
      "cell_type": "code",
      "source": "# [ ] review and run example\ncities = [\"New York\", \"Shanghai\", \"Munich\", \"Tokyo\", \"Dubai\", \"Mexico City\", \"São Paulo\", \"Hyderabad\"]\n\nfor city in cities:\n    print(city)",
      "execution_count": 1,
      "outputs": [
        {
          "output_type": "stream",
          "text": "New York\nShanghai\nMunich\nTokyo\nDubai\nMexico City\nSão Paulo\nHyderabad\n",
          "name": "stdout"
        }
      ]
    },
    {
      "metadata": {
        "trusted": true
      },
      "cell_type": "code",
      "source": "# [ ] review and run example\nsales = [6, 8, 9, 11, 12, 17, 19, 20, 22]\ntotal = 0\n\nfor sale in sales:\n    total += sale\n    \nprint(\"total sales:\", total)\n    \n",
      "execution_count": 6,
      "outputs": [
        {
          "output_type": "stream",
          "text": "total sales: 124\n",
          "name": "stdout"
        }
      ]
    },
    {
      "metadata": {},
      "cell_type": "markdown",
      "source": "change the iterator variable name from \"sale\" to \"dollars\" or to any valid name"
    },
    {
      "metadata": {
        "trusted": true
      },
      "cell_type": "code",
      "source": "# [ ] review and run example \nsales = [6, 8, 9, 11, 12, 17, 19, 20, 22]\ntotal = 0\n\nfor dollars in sales:\n    total += dollars\n    \nprint(\"total sales:\", total)",
      "execution_count": 7,
      "outputs": [
        {
          "output_type": "stream",
          "text": "total sales: 124\n",
          "name": "stdout"
        }
      ]
    },
    {
      "metadata": {
        "collapsed": true
      },
      "cell_type": "markdown",
      "source": "# &nbsp;\n<font size=\"6\" color=\"#B24C00\"  face=\"verdana\"> <B>Task 1</B></font>\n\n### Iterate through Lists using `in`"
    },
    {
      "metadata": {
        "trusted": true
      },
      "cell_type": "code",
      "source": "# [ ] create a list of 4 to 6 strings: birds\n# print each bird in the list\nbirds = ['crow','pigeon','eagle','parrot','peacock']\nfor bird in birds:\n    print(bird)\n",
      "execution_count": 1,
      "outputs": [
        {
          "output_type": "stream",
          "text": "crow\npigeon\neagle\nparrot\npeacock\n",
          "name": "stdout"
        }
      ]
    },
    {
      "metadata": {
        "trusted": true
      },
      "cell_type": "code",
      "source": "# [ ]  create a list of 7 integers: player_points\n# [ ] print double the points for each point value\nplayer_points = [10,15,30,55,90,100,85]\nfor points in player_points:\n    print(2*points)\n",
      "execution_count": 2,
      "outputs": [
        {
          "output_type": "stream",
          "text": "20\n30\n60\n110\n180\n200\n170\n",
          "name": "stdout"
        }
      ]
    },
    {
      "metadata": {
        "trusted": true
      },
      "cell_type": "code",
      "source": "# [ ] create long_string by concatenating the items in the \"birds\" list previously created\n# print long_string - make sure to put a space betweeen the bird names\nlong_string = \"\"\nfor bird in birds:\n    long_string += bird + \" \"\nprint(long_string)\n",
      "execution_count": 4,
      "outputs": [
        {
          "output_type": "stream",
          "text": "crow pigeon eagle parrot peacock \n",
          "name": "stdout"
        }
      ]
    },
    {
      "metadata": {},
      "cell_type": "markdown",
      "source": "# &nbsp;\n<font size=\"6\" color=\"#00A0B2\"  face=\"verdana\"> <B>Concepts</B></font>\n## Sort and Filter\n\n[![view video](https://iajupyterprodblobs.blob.core.windows.net/imagecontainer/common/play_video.png)]( http://edxinteractivepage.blob.core.windows.net/edxpages/f7cff1a7-5601-48a1-95a6-fd1fdfabd20e.html?details=[{\"src\":\"http://jupyternootbookwams.streaming.mediaservices.windows.net/32652fe3-7d3e-4b7b-b9fb-7f87a6c0ad59/Unit2_Section3.1b-Sort_and_Filter.ism/manifest\",\"type\":\"application/vnd.ms-sstr+xml\"}],[{\"src\":\"http://jupyternootbookwams.streaming.mediaservices.windows.net/32652fe3-7d3e-4b7b-b9fb-7f87a6c0ad59/Unit2_Section3.1b-Sort_and_Filter.vtt\",\"srclang\":\"en\",\"kind\":\"subtitles\",\"label\":\"english\"}])\n### use comparison operators while iterating lists\n"
    },
    {
      "metadata": {},
      "cell_type": "markdown",
      "source": "### &nbsp;\n<font size=\"6\" color=\"#00A0B2\"  face=\"verdana\"> <B>Examples</B></font>"
    },
    {
      "metadata": {
        "trusted": true
      },
      "cell_type": "code",
      "source": "# [ ] review and run example of sorting into strings to display\nfoot_bones = [\"calcaneus\", \"talus\", \"cuboid\", \"navicular\", \"lateral cuneiform\", \n            \"intermediate cuneiform\", \"medial cuneiform\"]\nlonger_names = \"\"\nshorter_names = \"\"\n\nfor bone_name in foot_bones:\n    if len(bone_name) < 10:\n        shorter_names += \"\\n\" + bone_name\n    else:\n        longer_names += \"\\n\" + bone_name\n\nprint(shorter_names)\nprint(longer_names)\n",
      "execution_count": 8,
      "outputs": [
        {
          "output_type": "stream",
          "text": "\ncalcaneus\ntalus\ncuboid\nnavicular\n\nlateral cuneiform\nintermediate cuneiform\nmedial cuneiform\n",
          "name": "stdout"
        }
      ]
    },
    {
      "metadata": {
        "trusted": true
      },
      "cell_type": "code",
      "source": "# [ ] review and run example of sorting into lists\nfoot_bones = [\"calcaneus\", \"talus\", \"cuboid\", \"navicular\", \"lateral cuneiform\", \n            \"intermediate cuneiform\", \"medial cuneiform\"]\nlonger_names = []\nshorter_names = []\n\nfor bone_name in foot_bones:\n    if len(bone_name) < 10:\n        shorter_names.append(bone_name)\n    else:\n        longer_names.append(bone_name)\n\nprint(shorter_names)\nprint(longer_names)",
      "execution_count": 9,
      "outputs": [
        {
          "output_type": "stream",
          "text": "['calcaneus', 'talus', 'cuboid', 'navicular']\n['lateral cuneiform', 'intermediate cuneiform', 'medial cuneiform']\n",
          "name": "stdout"
        }
      ]
    },
    {
      "metadata": {
        "collapsed": true
      },
      "cell_type": "markdown",
      "source": "# &nbsp;\n<font size=\"6\" color=\"#B24C00\"  face=\"verdana\"> <B>Task 2</B></font>\n\n## sort and filter"
    },
    {
      "metadata": {
        "trusted": true
      },
      "cell_type": "code",
      "source": "# [ ] Using cities from the example above iterate throught the list using \"for\"/\"in\"\n# [ ] Print only cities starting with \"m\"\nfor city in cities:\n    if city.lower().startswith('m'):\n        print(city)\n",
      "execution_count": 2,
      "outputs": [
        {
          "output_type": "stream",
          "text": "Munich\nMexico City\n",
          "name": "stdout"
        }
      ]
    },
    {
      "metadata": {
        "trusted": true
      },
      "cell_type": "code",
      "source": "# [ ] Using cities from the example above iterate throught the list using \"for\"/\"in\"\n# cities = [\"New York\", \"Shanghai\", \"Munich\", \"Tokyo\", \"Dubai\", \"Mexico City\", \"São Paulo\", \"Hyderabad\"]\n# [ ] sort into lists with \"A\" in the city name and without \"A\" in the name: a_city & no_a_city\na_city = []\nno_a_city = []\nfor city in cities:\n    if 'a' in city:\n        a_city.append(city)\n    else:\n        no_a_city.append(city)\nprint(a_city)\nprint(no_a_city)\n",
      "execution_count": 3,
      "outputs": [
        {
          "output_type": "stream",
          "text": "['Shanghai', 'Dubai', 'São Paulo', 'Hyderabad']\n['New York', 'Munich', 'Tokyo', 'Mexico City']\n",
          "name": "stdout"
        }
      ]
    },
    {
      "metadata": {
        "collapsed": true
      },
      "cell_type": "markdown",
      "source": "# &nbsp;\n<font size=\"6\" color=\"#00A0B2\"  face=\"verdana\"> <B>Concepts</B></font>  \n## More iteration of lists\n## - Counting\n## - Searching\n\n[![view video](https://iajupyterprodblobs.blob.core.windows.net/imagecontainer/common/play_video.png)]( http://edxinteractivepage.blob.core.windows.net/edxpages/f7cff1a7-5601-48a1-95a6-fd1fdfabd20e.html?details=[{\"src\":\"http://jupyternootbookwams.streaming.mediaservices.windows.net/72acdbd5-454d-4900-b381-387ad49596f1/Unit2_Section3.1c_count_in_iteration.ism/manifest\",\"type\":\"application/vnd.ms-sstr+xml\"}],[{\"src\":\"http://jupyternootbookwams.streaming.mediaservices.windows.net/72acdbd5-454d-4900-b381-387ad49596f1/Unit2_Section3.1c_count_in_iteration.vtt\",\"srclang\":\"en\",\"kind\":\"subtitles\",\"label\":\"english\"}])\n### use string methods while iterating lists"
    },
    {
      "metadata": {},
      "cell_type": "markdown",
      "source": "# &nbsp;\n<font size=\"6\" color=\"#00A0B2\"  face=\"verdana\"> <B>Examples</B></font>"
    },
    {
      "metadata": {
        "trusted": false
      },
      "cell_type": "code",
      "source": "# [ ] review and run example\n# iterates the \"cities\" list, count & sum letter \"a\" in each city name\n\ncities = [\"New York\", \"Shanghai\", \"Munich\", \"Tokyo\", \"Dubai\", \"Mexico City\", \"São Paulo\", \"Hyderabad\"]\nsearch_letter = \"a\"\ntotal = 0\n\nfor city_name in cities:\n    total += city_name.lower().count(search_letter)\n\nprint(\"The total # of \\\"\" + search_letter + \"\\\" found in the list is\", total)",
      "execution_count": null,
      "outputs": []
    },
    {
      "metadata": {},
      "cell_type": "markdown",
      "source": "<font size=\"4\" color=\"#00A0B2\"  face=\"verdana\"> <B>search function</B></font>\n[![view video](https://iajupyterprodblobs.blob.core.windows.net/imagecontainer/common/play_video.png)](http://edxinteractivepage.blob.core.windows.net/edxpages/f7cff1a7-5601-48a1-95a6-fd1fdfabd20e.html?details=[{\"src\":\"http://jupyternootbookwams.streaming.mediaservices.windows.net/2fa709be-5857-4291-beee-4d893d93468e/Unit2_Section3.1d_city_search_function.ism/manifest\",\"type\":\"application/vnd.ms-sstr+xml\"}],[{\"src\":\"http://jupyternootbookwams.streaming.mediaservices.windows.net/2fa709be-5857-4291-beee-4d893d93468e/Unit2_Section3.1d_city_search_function.vtt\",\"srclang\":\"en\",\"kind\":\"subtitles\",\"label\":\"english\"}])"
    },
    {
      "metadata": {
        "trusted": false
      },
      "cell_type": "code",
      "source": "# [ ] review and run example\n# city_search function has a default list of cities to search\ndef city_search(search_item, cities = [\"New York\", \"Shanghai\", \"Munich\", \"Tokyo\"] ):\n    for city in cities:\n        if city.lower() == search_item.lower():\n            return True\n        else:\n            # go to the next item\n            pass\n    # no more items in list\n    return False\n\n# a list of cities\nvisited_cities = [\"New York\", \"Shanghai\", \"Munich\", \"Tokyo\", \"Dubai\", \"Mexico City\", \"São Paulo\", \"Hyderabad\"]\n\nsearch = input(\"enter a city visited: \")\n\n# Search the default city list\nprint(search, \"in default cities is\", city_search(search))\n\n# search the list visited_cities using 2nd argument\nprint(search, \"in visitied_cites list is\", city_search(search,visited_cities))",
      "execution_count": null,
      "outputs": []
    },
    {
      "metadata": {},
      "cell_type": "markdown",
      "source": "# &nbsp;\n<font size=\"6\" color=\"#B24C00\"  face=\"verdana\"> <B>Task 3</B></font>  \n## Program: Paint Stock  \ncheck a list for a paint color request and print status of color \"found\"/\"not found\"\n- create list, paint_colors, with 5+ colors\n- get user input of string:color_request\n- iterate through each color in paint_colors to check for a match with color_request"
    },
    {
      "metadata": {
        "trusted": true
      },
      "cell_type": "code",
      "source": "# [ ] complete paint stock\npaint_colors = ['red','blue','orange','yellow','black','white']\ncolor_request = input(\"enter the color: \")\nif color_request in paint_colors:\n    print(color_request,\"found\")\nelse:\n    print(color_request,\"not found\")",
      "execution_count": 19,
      "outputs": [
        {
          "output_type": "stream",
          "name": "stdout",
          "text": "enter the color: pink\npink not found\n"
        }
      ]
    },
    {
      "metadata": {
        "collapsed": true
      },
      "cell_type": "markdown",
      "source": "# &nbsp;\n<font size=\"6\" color=\"#B24C00\"  face=\"verdana\"> <B>Task 4</B></font>  \n## Program: Foot Bones Quiz\n**Create a function** that will iterate through foot_bones looking for a match of a string argument\n- Call the function 2 times with the name of a footbone \n- print immediate feedback for each answer (correct - incorrect)\n- print the total # of foot_bones identified\n\n\nThe program will use the foot_bones list:\n```python \nfoot_bones = [\"calcaneus\", \"talus\", \"cuboid\", \"navicular\", \"lateral cuneiform\",\n             \"intermediate cuneiform\", \"medial cuneiform\"]\n```\nBonus: remove correct response item from list if correct so user cannot answer same item twice"
    },
    {
      "metadata": {
        "trusted": false
      },
      "cell_type": "code",
      "source": "# [ ] Complete Foot Bones Quiz\n# foot_bones = [\"calcaneus\", \"talus\", \"cuboid\", \"navicular\", \"lateral cuneiform\",\n#             \"intermediate cuneiform\", \"medial cuneiform\"]\n",
      "execution_count": null,
      "outputs": []
    },
    {
      "metadata": {
        "trusted": false
      },
      "cell_type": "code",
      "source": "# [ ] bonus version\n\n",
      "execution_count": null,
      "outputs": []
    },
    {
      "metadata": {
        "collapsed": true
      },
      "cell_type": "markdown",
      "source": "[Terms of use](http://go.microsoft.com/fwlink/?LinkID=206977) &nbsp; [Privacy & cookies](https://go.microsoft.com/fwlink/?LinkId=521839) &nbsp; © 2017 Microsoft"
    }
  ],
  "metadata": {
    "anaconda-cloud": {},
    "kernelspec": {
      "name": "python3",
      "display_name": "Python 3",
      "language": "python"
    },
    "language_info": {
      "mimetype": "text/x-python",
      "nbconvert_exporter": "python",
      "name": "python",
      "file_extension": ".py",
      "version": "3.5.4",
      "pygments_lexer": "ipython3",
      "codemirror_mode": {
        "version": 3,
        "name": "ipython"
      }
    }
  },
  "nbformat": 4,
  "nbformat_minor": 1
}