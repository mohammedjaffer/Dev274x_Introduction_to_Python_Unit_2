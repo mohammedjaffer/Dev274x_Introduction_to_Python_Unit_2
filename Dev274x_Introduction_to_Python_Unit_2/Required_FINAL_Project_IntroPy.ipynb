{
  "cells": [
    {
      "metadata": {},
      "cell_type": "markdown",
      "source": "# Final Project Required Coding Activity  \nIntroduction to Python (Unit 2) Fundamentals  \n\n**This Activity is intended to be completed in the jupyter notebook, `Required_FINAL_Project_IntroPy.ipynb`, and then pasted into the assessment page that follows.**   \n \nAll course .ipynb Jupyter Notebooks are available from the project files download topic in Module 1, Section 1.  \n\nThis activity is based on modules 1 - 4 and is similar to exercises in the Jupyter Notebooks **`Practice_MOD03_IntroPy.ipynb`** and **`Practice_MOD04_IntroPy.ipynb`** which you may have completed as practice.\n\n| **Assignment Requirements** |\n|:-------------------------------|\n|This program requires the use of **`print`** output and use of  **`input`**, **`for`**/**`in`** loop, **`if`**, file **`open`**, **`.readline`**, **`.append`**, **`.strip`**, **`len`**. and function **`def`** and **`return`**. The code should also consider using most of the following (`.upper()` or `.lower()`, `.title()`, `print(\"hello\",end=\"\")` `else`, `elif`, `range()`, `while`, `.close()`) |\n\n\n## Program: Element_Quiz  \nIn this program the user enters the name of any 5 of the first 20 Atomic Elements and is given a grade and test report for items correct and incorrect.  \n\n\n### Sample input and output:  \n```\nlist any 5 of the first 20 elements in the Period table\nEnter the name of an element: argon\nEnter the name of an element: chlorine\nEnter the name of an element: sodium\nEnter the name of an element: argon\nargon was already entered          <--no duplicates allowed\nEnter the name of an element: helium\nEnter the name of an element: gold\n\n80 % correct\nFound: Argon Chlorine Sodium Helium \nNot Found: Gold \n```  \n\n\n### Create get_names() Function to collect input of 5 unique element names  \n\n- The function accepts no arguments and returns a list of 5 input strings (element names)  \n- define a list to hold the input\n- collect input of a element name  \n- if input it is **not** already in the list add the input to the list  \n- don't allow empty strings as input  \n- once 5 unique inputs **return** the list  \n\n\n### Create the Program flow  \n\n#### import the file into the Jupyter Notebook environment   \n\n- use `!curl` to download https://raw.githubusercontent.com/MicrosoftLearning/intropython/master/elements1_20.txt\" as `elements1_20.txt`  \n- open the file with the first 20 elements  \n- read one line at a time to get element names, remove any whitespace (spaces, newlines) and save each element name, as lowercase, into a list  \n\n\n####  Call the get_names() function  \n\n- the return value will be the quiz responses list  \n\n#### check if responses are in the list of elements  \nIterate through 5 responses  \n- compare each response to the list of 20 elements\n  - any response that is in the list of 20 elements is correct and should be added to a list of correct responses  \n  - if not in the list of 20 elements then add to a list of incorrect responses  \n\n#### calculate the % correct  \n \n - find the the number of items in the correct responses and divide by 5, this will result in answers like 1.0, .8, .6,...  \n - to get the % multiple the calculated answer above by 100, this will result in answers like 100, 80, 60...  \n - *hint: instead of dividing by 5 and then multiplying by 100, the number of correct responses can be multiplied by 20*  \n\n#### Print output  \n\n- print the Score % right  \n- print each of the correct responses  \n- print each of the incorrect responses  \n\n\n### create Element_Quiz  then paste code on edX submission page\n\n"
    },
    {
      "metadata": {
        "trusted": true
      },
      "cell_type": "code",
      "source": "# [] create Element_Quiz\n# [] copy and paste in edX assignment page\ndef get_names():\n    elements = []\n    print(\"list any 5 of the first 20 elements in the Period table\")\n    count = 0\n    while True:\n        name = input(\"Enter the name of an element: \")\n        if name in elements:\n            print(name,\"was already entered\", end = '\\t')          \"\n            print(\"<--no duplicates allowed\")\n        elif name == \"\":\n            print(\"empty string are not allowed\")\n        else:\n            elements.append(name)\n            count +=1\n        if count == 5:\n            break\n    return elements\n\n!curl https://raw.githubusercontent.com/MicrosoftLearning/intropython/master/elements1_20.txt -o elements1_20.txt\nelements1_20 = open('elements1_20.txt','r')\nelement = elements1_20.readline().strip(' \\n').lower()\nelements_list = []\nfor i in range(20):\n    elements_list.append(element)\n    element = elements1_20.readline().strip(' \\n').lower()\nelements = get_names()\n\ncorrect_responses = []\nincorrect_responses = []\nfor count in range(len(elements)):\n    if elements[count] in elements_list:\n        correct_responses.append(elements[count])\n    else:\n        incorrect_responses.append(elements[count])\n        \npercentage = len(correct_responses) * 20\nprint(percentage,\"% correct\")\nprint(\"Found:\",' '.join(correct_responses))\nprint(\"Not Found:\",' '.join(incorrect_responses))\n        \nelements1_20.close()",
      "execution_count": 15,
      "outputs": [
        {
          "output_type": "stream",
          "text": "  % Total    % Received % Xferd  Average Speed   Time    Time     Time  Current\n                                 Dload  Upload   Total   Spent    Left  Speed\n100   161  100   161    0     0    641      0 --:--:-- --:--:-- --:--:--   646\nlist any 5 of the first 20 elements in the Period table\nEnter the name of an element: argon\nEnter the name of an element: helium\nEnter the name of an element: hydrogen\nEnter the name of an element: sodium\nEnter the name of an element: chlorine\n100 % correct\nFound: argon helium hydrogen sodium chlorine\nNot Found: \n",
          "name": "stdout"
        }
      ]
    },
    {
      "metadata": {
        "trusted": true
      },
      "cell_type": "code",
      "source": "",
      "execution_count": 2,
      "outputs": [
        {
          "output_type": "stream",
          "text": "  % Total    % Received % Xferd  Average Speed   Time    Time     Time  Current\n                                 Dload  Upload   Total   Spent    Left  Speed\n100   161  100   161    0     0    489      0 --:--:-- --:--:-- --:--:--   495\n",
          "name": "stdout"
        }
      ]
    },
    {
      "metadata": {
        "trusted": true
      },
      "cell_type": "code",
      "source": "elements_list",
      "execution_count": 3,
      "outputs": [
        {
          "output_type": "execute_result",
          "execution_count": 3,
          "data": {
            "text/plain": "['hydrogen',\n 'helium',\n 'lithium',\n 'beryllium',\n 'boron',\n 'carbon',\n 'nitrogen',\n 'oxygen',\n 'fluorine',\n 'neon',\n 'sodium',\n 'magnesium',\n 'aluminum',\n 'silicon',\n 'phosphorus',\n 'sulfur',\n 'chlorine',\n 'argon',\n 'potassium',\n 'calcium']"
          },
          "metadata": {}
        }
      ]
    },
    {
      "metadata": {},
      "cell_type": "markdown",
      "source": "### Need assignment tips and clarification? \nSee the video on the \"Final coding assignment > Required Final Project\" course page on [edX](https://courses.edx.org/courses/course-v1:Microsoft+DEV274x+4T2017/course)    \n\n# Important:  [How to submit code by pasting](https://courses.edx.org/courses/course-v1:Microsoft+DEV274x+2T2017/wiki/Microsoft.DEV274x.2T2017/paste-code-end-module-coding-assignments/)\n"
    },
    {
      "metadata": {},
      "cell_type": "markdown",
      "source": "[Terms of use](http://go.microsoft.com/fwlink/?LinkID=206977) &nbsp; [Privacy & cookies](https://go.microsoft.com/fwlink/?LinkId=521839) &nbsp; © 2017 Microsoft"
    }
  ],
  "metadata": {
    "anaconda-cloud": {},
    "kernelspec": {
      "name": "python3",
      "display_name": "Python 3",
      "language": "python"
    },
    "language_info": {
      "mimetype": "text/x-python",
      "nbconvert_exporter": "python",
      "name": "python",
      "file_extension": ".py",
      "version": "3.5.4",
      "pygments_lexer": "ipython3",
      "codemirror_mode": {
        "version": 3,
        "name": "ipython"
      }
    }
  },
  "nbformat": 4,
  "nbformat_minor": 1
}